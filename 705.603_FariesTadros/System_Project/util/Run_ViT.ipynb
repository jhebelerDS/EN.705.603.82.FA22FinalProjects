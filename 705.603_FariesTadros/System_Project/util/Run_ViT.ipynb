{
 "cells": [
  {
   "cell_type": "code",
   "execution_count": 1,
   "metadata": {},
   "outputs": [
    {
     "name": "stdout",
     "output_type": "stream",
     "text": [
      "TensorFlow Version 2.8.0\n",
      "Metal device set to: Apple M1\n",
      "\n",
      "systemMemory: 16.00 GB\n",
      "maxCacheSize: 5.33 GB\n",
      "\n"
     ]
    },
    {
     "name": "stderr",
     "output_type": "stream",
     "text": [
      "2022-12-12 20:05:20.733276: I tensorflow/core/common_runtime/pluggable_device/pluggable_device_factory.cc:305] Could not identify NUMA node of platform GPU ID 0, defaulting to 0. Your kernel may not have been built with NUMA support.\n",
      "2022-12-12 20:05:20.733463: I tensorflow/core/common_runtime/pluggable_device/pluggable_device_factory.cc:271] Created TensorFlow device (/job:localhost/replica:0/task:0/device:GPU:0 with 0 MB memory) -> physical PluggableDevice (device: 0, name: METAL, pci bus id: <undefined>)\n"
     ]
    }
   ],
   "source": [
    "import os \n",
    "from PIL import Image\n",
    "import numpy as np\n",
    "import sys\n",
    "sys.path.insert(0,\"..\")\n",
    "\n",
    "from src.vit_keras_net import MyVit"
   ]
  },
  {
   "cell_type": "markdown",
   "metadata": {},
   "source": [
    "Initialize the Vision Transformer Class"
   ]
  },
  {
   "cell_type": "code",
   "execution_count": 2,
   "metadata": {},
   "outputs": [],
   "source": [
    "ViT=MyVit()\n",
    "MAGE_SIZE = 224\n",
    "BATCH_SIZE = 16\n",
    "EPOCHS = 1\n",
    "\n",
    "    "
   ]
  },
  {
   "cell_type": "markdown",
   "metadata": {},
   "source": [
    "Load data "
   ]
  },
  {
   "cell_type": "code",
   "execution_count": 3,
   "metadata": {},
   "outputs": [
    {
     "name": "stdout",
     "output_type": "stream",
     "text": [
      "Found 17118 validated image filenames belonging to 5 classes.\n",
      "Found 4279 validated image filenames belonging to 5 classes.\n",
      "Found 1 validated image filenames.\n"
     ]
    }
   ],
   "source": [
    "TRAIN_PATH = '../data/cassava-leaf-disease-classification/'\n",
    "TEST_PATH = '../data/cassava-leaf-disease-classification/test_images'\n",
    "TRAIN_PATH = '../data/cassava-leaf-disease-classification/train_images'\n",
    "\n",
    "DF_TRAIN,DF_TEST,classes = ViT.load_data(TRAIN_PATH,TEST_PATH)\n",
    "train_gen,valid_gen,test_gen=ViT.data_loader(DF_TRAIN,DF_TEST,TRAIN_PATH)\n"
   ]
  },
  {
   "cell_type": "markdown",
   "metadata": {},
   "source": [
    "Create and Train Model"
   ]
  },
  {
   "cell_type": "code",
   "execution_count": 4,
   "metadata": {},
   "outputs": [
    {
     "name": "stdout",
     "output_type": "stream",
     "text": [
      "Model: \"vision_transformer\"\n",
      "_________________________________________________________________\n",
      " Layer (type)                Output Shape              Param #   \n",
      "=================================================================\n",
      " vit-b32 (Functional)        (None, 768)               87455232  \n",
      "                                                                 \n",
      " flatten (Flatten)           (None, 768)               0         \n",
      "                                                                 \n",
      " batch_normalization (BatchN  (None, 768)              3072      \n",
      " ormalization)                                                   \n",
      "                                                                 \n",
      " dense (Dense)               (None, 11)                8459      \n",
      "                                                                 \n",
      " batch_normalization_1 (Batc  (None, 11)               44        \n",
      " hNormalization)                                                 \n",
      "                                                                 \n",
      " dense_1 (Dense)             (None, 5)                 60        \n",
      "                                                                 \n",
      "=================================================================\n",
      "Total params: 87,466,867\n",
      "Trainable params: 87,465,309\n",
      "Non-trainable params: 1,558\n",
      "_________________________________________________________________\n"
     ]
    },
    {
     "name": "stderr",
     "output_type": "stream",
     "text": [
      "2022-12-12 20:05:24.434487: W tensorflow/core/platform/profile_utils/cpu_utils.cc:128] Failed to get CPU frequency: 0 Hz\n",
      "2022-12-12 20:05:32.242923: I tensorflow/core/grappler/optimizers/custom_graph_optimizer_registry.cc:113] Plugin optimizer for device_type GPU is enabled.\n"
     ]
    },
    {
     "name": "stdout",
     "output_type": "stream",
     "text": [
      "1069/1069 [==============================] - ETA: 0s - loss: 1.3990 - acc: 0.5748"
     ]
    },
    {
     "name": "stderr",
     "output_type": "stream",
     "text": [
      "2022-12-12 20:27:10.650514: I tensorflow/core/grappler/optimizers/custom_graph_optimizer_registry.cc:113] Plugin optimizer for device_type GPU is enabled.\n"
     ]
    }
   ],
   "source": [
    "vit_model = ViT.create_model()\n",
    "ViT.train_model(vit_model,train_gen,valid_gen,EPOCHS)"
   ]
  },
  {
   "cell_type": "markdown",
   "metadata": {},
   "source": []
  }
 ],
 "metadata": {
  "interpreter": {
   "hash": "46a9145c885dc28f3a3367267e68eb7c24af3cd492e3b16aff17745f1558996d"
  },
  "kernelspec": {
   "display_name": "Python 3.8.11 64-bit (conda)",
   "language": "python",
   "name": "python3"
  },
  "language_info": {
   "codemirror_mode": {
    "name": "ipython",
    "version": 3
   },
   "file_extension": ".py",
   "mimetype": "text/x-python",
   "name": "python",
   "nbconvert_exporter": "python",
   "pygments_lexer": "ipython3",
   "version": "3.8.11"
  },
  "orig_nbformat": 4
 },
 "nbformat": 4,
 "nbformat_minor": 2
}
