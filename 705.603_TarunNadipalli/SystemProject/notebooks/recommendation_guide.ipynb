{
 "cells": [
  {
   "attachments": {},
   "cell_type": "markdown",
   "metadata": {},
   "source": [
    "## Tarun Nadipalli - 705.603 Creating AI-Enabled Systems Final Project\n",
    "\n",
    "For my final project, I decided to build my own content-based song recommendation application with the Spotify API. Users are able to input a link to a Spotify playlist that contains songs they like and my application will send back a link to playlist that contains my recommended songs. \n",
    "\n",
    "In the previous guide `data_analysis.ipynb`, I described the data I used and the design decisions I decided to implement (mainly excluding genre and artists from my dataset). In this notebook, we will walkthrough the full recommendation engine in `recommend.py` by describing the different TensorFlow models we have created along with how they play into the two steps of creating recommendations: retrieval and ranking.\n",
    "\n",
    "Ultimately, recommender systems use user feedback (note: we only have implicit feedback in our use case)on certain items to extrapolate and predict how that user would rate other items. The items with the highest predicted ratings are then recommended to the user. To do so, these systems consist of two different stages, retrieval and ranking. \n",
    "\n",
    "In the retrieval stage, the model is trained on the input data and whittles down the large dataset of potential recommendations to just a few hundred. Once the potential recommendations that wouldn't be interesting to the user are weeded out, we send the smaller set of recommendations to the ranking stage. \n",
    "\n",
    "In the ranking stage, the small set of potential recommendations is analyzed to find the likelihood that the user will enjoy that recommendation. The recommendations with the highest likelihood are then returned to the user.\n",
    "\n",
    "Note: People often refer to the user data/preferences as query data, whereas potential recommendations are referred to as candidates.\n",
    "\n",
    "In `recommender.py` we use TensorFlow, TensorFlow Recommenders library, and Keras to complete our recommendation workflow."
   ]
  },
  {
   "attachments": {},
   "cell_type": "markdown",
   "metadata": {},
   "source": [
    "#### Retrieval \n",
    "\n",
    "The retrieval stage has a few different steps and is comprised of two different model types. The first model is the query model, which computes the representation of all the query features. In our case, the query model is built off the features of the user inputted playlist songs data. The second type is the candidate model, which contains equally sized embeddings to represent all the candidate data (our pool of 300k songs to recommend from). In both cases, we use the 'SongModel' defined in `models.py` to instantiate a tf.keras.Model object to hold / compute our embeddings based on the input songs.\n",
    "\n",
    "The next model type is a combination of the query and candidate model, the 'RetrievalModel' in `models.py`. This model takes both the query and candidate model's outputs, multiplies them to calculate a score that will help us determine any potential matches. The higher the score, the more likely they are to be similar. Additionally, it also implements a loss function to help evaluate how well our model is training on our query data. \n",
    "\n",
    "The 'RetrievalModel' also has employs the tfrs.metrics.FactorizedTopK task layer with the computed scores from above to weed out the potential recommendations from hundreds of thousands to just hundreds. FactorizedTopK compares the scores that the model calculates for an song-song pair to all the other possible candidate songs; if the score for the songs from the query input are higher, then we know our model has found a good song to include for the ranking stage.\n",
    "\n",
    "Our retrieval function yields a DataFrame containing 1000 of the original 300k songs to be ranked in the ranking stage. Let's see how that works below.\n"
   ]
  },
  {
   "cell_type": "code",
   "execution_count": 1,
   "metadata": {},
   "outputs": [
    {
     "name": "stdout",
     "output_type": "stream",
     "text": [
      "\u001b[93mGot it! The playlist you've submitted is: https://open.spotify.com/playlist/37i9dQZF1DX0XUsuxWHRQd?si=b21c55631c15457b\n"
     ]
    },
    {
     "data": {
      "text/html": [
       "<div>\n",
       "<style scoped>\n",
       "    .dataframe tbody tr th:only-of-type {\n",
       "        vertical-align: middle;\n",
       "    }\n",
       "\n",
       "    .dataframe tbody tr th {\n",
       "        vertical-align: top;\n",
       "    }\n",
       "\n",
       "    .dataframe thead th {\n",
       "        text-align: right;\n",
       "    }\n",
       "</style>\n",
       "<table border=\"1\" class=\"dataframe\">\n",
       "  <thead>\n",
       "    <tr style=\"text-align: right;\">\n",
       "      <th></th>\n",
       "      <th>track_uri</th>\n",
       "      <th>danceability</th>\n",
       "      <th>energy</th>\n",
       "      <th>key</th>\n",
       "      <th>loudness</th>\n",
       "      <th>mode</th>\n",
       "      <th>speechiness</th>\n",
       "      <th>acousticness</th>\n",
       "      <th>instrumentalness</th>\n",
       "      <th>liveness</th>\n",
       "      <th>valence</th>\n",
       "      <th>tempo</th>\n",
       "      <th>duration_ms</th>\n",
       "      <th>time_signature</th>\n",
       "    </tr>\n",
       "  </thead>\n",
       "  <tbody>\n",
       "    <tr>\n",
       "      <th>79906</th>\n",
       "      <td>1YBA6PuLlIrjNr9Hxl7qcj</td>\n",
       "      <td>0.0796</td>\n",
       "      <td>0.9960</td>\n",
       "      <td>1.0</td>\n",
       "      <td>-16.873</td>\n",
       "      <td>1.0</td>\n",
       "      <td>0.1800</td>\n",
       "      <td>0.13000</td>\n",
       "      <td>0.7430</td>\n",
       "      <td>0.380</td>\n",
       "      <td>0.00602</td>\n",
       "      <td>83.718</td>\n",
       "      <td>5279768</td>\n",
       "      <td>4</td>\n",
       "    </tr>\n",
       "    <tr>\n",
       "      <th>186541</th>\n",
       "      <td>4zQ2iVzOx7BiuA9JSUIr3S</td>\n",
       "      <td>0.0619</td>\n",
       "      <td>0.7150</td>\n",
       "      <td>1.0</td>\n",
       "      <td>-15.423</td>\n",
       "      <td>1.0</td>\n",
       "      <td>0.2760</td>\n",
       "      <td>0.62500</td>\n",
       "      <td>0.9380</td>\n",
       "      <td>0.456</td>\n",
       "      <td>0.00001</td>\n",
       "      <td>75.895</td>\n",
       "      <td>4680000</td>\n",
       "      <td>3</td>\n",
       "    </tr>\n",
       "    <tr>\n",
       "      <th>211274</th>\n",
       "      <td>1gNlPGGyQ4FKTqGBTrUgEg</td>\n",
       "      <td>0.2360</td>\n",
       "      <td>0.9130</td>\n",
       "      <td>7.0</td>\n",
       "      <td>-16.058</td>\n",
       "      <td>1.0</td>\n",
       "      <td>0.5670</td>\n",
       "      <td>0.21800</td>\n",
       "      <td>0.5680</td>\n",
       "      <td>0.597</td>\n",
       "      <td>0.03630</td>\n",
       "      <td>167.558</td>\n",
       "      <td>5100018</td>\n",
       "      <td>4</td>\n",
       "    </tr>\n",
       "    <tr>\n",
       "      <th>80767</th>\n",
       "      <td>1wXkXhrYKpf8sNVtaZcS4L</td>\n",
       "      <td>0.0949</td>\n",
       "      <td>0.0833</td>\n",
       "      <td>1.0</td>\n",
       "      <td>-21.237</td>\n",
       "      <td>1.0</td>\n",
       "      <td>0.0435</td>\n",
       "      <td>0.03240</td>\n",
       "      <td>0.8200</td>\n",
       "      <td>0.201</td>\n",
       "      <td>0.02350</td>\n",
       "      <td>88.757</td>\n",
       "      <td>3627182</td>\n",
       "      <td>4</td>\n",
       "    </tr>\n",
       "    <tr>\n",
       "      <th>262563</th>\n",
       "      <td>6yfA0Vw02XiuDDRhmqimER</td>\n",
       "      <td>0.7830</td>\n",
       "      <td>0.9180</td>\n",
       "      <td>1.0</td>\n",
       "      <td>-2.700</td>\n",
       "      <td>1.0</td>\n",
       "      <td>0.1820</td>\n",
       "      <td>0.00656</td>\n",
       "      <td>0.0165</td>\n",
       "      <td>0.319</td>\n",
       "      <td>0.41900</td>\n",
       "      <td>129.078</td>\n",
       "      <td>4677906</td>\n",
       "      <td>4</td>\n",
       "    </tr>\n",
       "  </tbody>\n",
       "</table>\n",
       "</div>"
      ],
      "text/plain": [
       "                     track_uri  danceability  energy  key  loudness  mode  \\\n",
       "79906   1YBA6PuLlIrjNr9Hxl7qcj        0.0796  0.9960  1.0   -16.873   1.0   \n",
       "186541  4zQ2iVzOx7BiuA9JSUIr3S        0.0619  0.7150  1.0   -15.423   1.0   \n",
       "211274  1gNlPGGyQ4FKTqGBTrUgEg        0.2360  0.9130  7.0   -16.058   1.0   \n",
       "80767   1wXkXhrYKpf8sNVtaZcS4L        0.0949  0.0833  1.0   -21.237   1.0   \n",
       "262563  6yfA0Vw02XiuDDRhmqimER        0.7830  0.9180  1.0    -2.700   1.0   \n",
       "\n",
       "        speechiness  acousticness  instrumentalness  liveness  valence  \\\n",
       "79906        0.1800       0.13000            0.7430     0.380  0.00602   \n",
       "186541       0.2760       0.62500            0.9380     0.456  0.00001   \n",
       "211274       0.5670       0.21800            0.5680     0.597  0.03630   \n",
       "80767        0.0435       0.03240            0.8200     0.201  0.02350   \n",
       "262563       0.1820       0.00656            0.0165     0.319  0.41900   \n",
       "\n",
       "          tempo  duration_ms  time_signature  \n",
       "79906    83.718      5279768               4  \n",
       "186541   75.895      4680000               3  \n",
       "211274  167.558      5100018               4  \n",
       "80767    88.757      3627182               4  \n",
       "262563  129.078      4677906               4  "
      ]
     },
     "execution_count": 1,
     "metadata": {},
     "output_type": "execute_result"
    }
   ],
   "source": [
    "import os\n",
    "os.environ['TF_CPP_MIN_LOG_LEVEL'] = '3' \n",
    "\n",
    "import warnings\n",
    "warnings.filterwarnings(\"ignore\")\n",
    "\n",
    "from data import *\n",
    "from spotify import Spotify\n",
    "from recommend import *\n",
    "tf.get_logger().setLevel('ERROR')\n",
    "\n",
    "sp = Spotify(client_id='baf04d54648346de81af8a9904349531', \n",
    "                client_secret='074087a86045465dbd582802befa6f94',\n",
    "                scope=\"playlist-modify-public\")\n",
    "    \n",
    "# creating SQLite db connection to access song data\n",
    "conn = create_connection(db_file)\n",
    "\n",
    "# going to paste the RapCaviar Spotify Playlist as example\n",
    "# https://open.spotify.com/playlist/37i9dQZF1DX0XUsuxWHRQd?si=b21c55631c15457b\n",
    "user_df = sp.get_spotify_data_from_user()\n",
    "songs_df = get_table_df(conn, 'features', '300000').drop(['track_id'], axis=1)\n",
    "\n",
    "retrieved_recs_df = retrieval(user_df, songs_df)\n",
    "retrieved_recs_df.head()\n"
   ]
  },
  {
   "attachments": {},
   "cell_type": "markdown",
   "metadata": {},
   "source": [
    "As you can see, we printed out the first 5 of 1000 candidate songs for ranking. Let's move on and describe the ranking workflow."
   ]
  },
  {
   "attachments": {},
   "cell_type": "markdown",
   "metadata": {},
   "source": [
    "#### Ranking\n",
    "\n",
    "As mentioned before, the ranking stage takes the output from the retrieval model and fine-tunes the selections to what it considers the best candidates. It does so by using tasking that predicts the ratings of potential candidates and returns the songs with the highest predicted ratings.\n",
    "\n",
    "This involves the use of two main models as defined in `models.py`. The first is the 'RankingModel' which combines the query and candidate SongModel's as defined in the retrieval step. Except in this stage there are two major changes:\n",
    "1. We add a column 'ratings' to the user input dataframe of songs all with a value of 1 so we can essentially tell the model that the user likes all of these songs.\n",
    "2. The candidate SongModel input is not the dataframe of 300k songs, but the 1k songs from the retrieval stage output.\n",
    "\n",
    "In this 'RankingModel' we define two stacked dense layers and a final layer that makes the rating predictions. \n",
    "\n",
    "The second model is the 'FullRankingModel' which uses the 'RankingModel' as one layer and adds two metrics. The first is a layer to calculate the loss with MeanSquaredError and the second is RootMeanSquaredError. Combined, we can properly train on the user data and extrapolate the learnings to other candidate songs from the retrieval step. \n",
    "\n",
    "It is worth mentioning as well that both the retrieval and rankings stages contain preprocessing steps such as encoding the categorical variables and normalizing the numerical variables. With that in mind, let's run the ranking stage and see the output.\n",
    "\n",
    "The output in this case is the list of 50 Song IDs for songs that had the highest predicted ratings that we can pass to the Spotify API to create our playlist! "
   ]
  },
  {
   "cell_type": "code",
   "execution_count": 2,
   "metadata": {},
   "outputs": [
    {
     "name": "stdout",
     "output_type": "stream",
     "text": [
      "['7fEHXf9gdC9GgdEnOplSMk' '04vKZAQjAl1xiwRpJUwcNi'\n",
      " '7jJwZljv47X3MtcBs8J0kK' '2TGccSSywyDDVBdVuruJfv'\n",
      " '7Dwznt3vxaMm9h6NqLggMG' '21gwamXOkYbGvc2pNujxwI'\n",
      " '1lRUE7Wvr2kPfd6T5dyx6V' '3KgOabOHuokOIaNizvMGAR'\n",
      " '4yRrCssPj4FJp4BWkFNugX' '3IJw5ZeS3ZcCYb36aIFWyZ'\n",
      " '04KJ4NGb2T22y26sTO41Q0' '42excP3MyVua6modv3v9Pz'\n",
      " '54YIcwm4UHK2CjrPdqG5ET' '3CGxYL47S3A4ouA11u3zoB'\n",
      " '4JxTsAC3TNQy9BQdR1vpsj' '4H0XhTWA9SjTynyFHDITjF'\n",
      " '0E5loSIAWRO56lW9X6r4mc' '0z4tMEEWIewXIwnMLVedIY'\n",
      " '5oTv8AtuFfHrJE5qZnF69S' '11iOB65szCoy6e5dscKrai'\n",
      " '4V367XIbBKqsBaE2KhYFW0' '7JbEO66T2aBBlscNt8Sqt5'\n",
      " '6pTqwdzpEMuz6G1gu6gYOg' '2PmF8UiRxg8a2L08TpQtwJ'\n",
      " '02c6Po7W4uthFjUWkukl0z' '5e574bhjycX1eH2l4Auage'\n",
      " '4Be5OppEnVognKlHUIN0v6' '4txwQCkCJMWLwpEXqjp6dq'\n",
      " '2ZRJRe82aZaVhOKKlbJr4v' '4iYRa2btalAzPZoSYfROqF'\n",
      " '2SHDnvo78qHFyZVgx9ZAjP' '1L49J3hzJeSGTqgtUb7vYD'\n",
      " '5YWQWLEUtqRbUDs7bzaUb0' '3njpLvANriMsdv3dgADEad'\n",
      " '5zvwWU7CdXdJTV9Y35qX1u' '2N1bBBvrtuZOVWCYY532ys'\n",
      " '3N40rGv0fQYA0erA4aCRTW' '0gUBZ1HzJo1Ha0K6TJam3j'\n",
      " '4UZzJnI07nFm07zWhqyDOm' '6DWdTk7UaZ6LIYYCFvmgX7'\n",
      " '1x9MCRIiKQtrTe4Vu9hBmX' '10fItzbnj7iBE2nQaShNnu'\n",
      " '0C5IKY0sXz4sg0hpx7HOz0' '3cm42wcSsj1dJrf4EJc8Dm'\n",
      " '5EVGgRH4HAJXn5jiCLsBUo' '7dLQWJfIvpXE1izgkaK99L'\n",
      " '5sOPd9CF6qqGkLsnea0LlQ' '1gPDkT8miqudaqE2Pmg6H9'\n",
      " '3uksXbaCYVWXLCZ2BYVgYY' '4BkNAYvDERH0MMhn7YnZzV']\n"
     ]
    }
   ],
   "source": [
    "ranked_recs = ranking(user_df, retrieved_recs_df)\n",
    "print(ranked_recs)"
   ]
  },
  {
   "attachments": {},
   "cell_type": "markdown",
   "metadata": {},
   "source": [
    "The final step in this project is creating the playlist. Let's do it!"
   ]
  },
  {
   "cell_type": "code",
   "execution_count": 3,
   "metadata": {},
   "outputs": [
    {
     "name": "stdout",
     "output_type": "stream",
     "text": [
      "\u001b[92mDone! Here are your recommendations: https://open.spotify.com/playlist/5bRdXusLShAR8e7JTpeLQN\n"
     ]
    },
    {
     "data": {
      "text/plain": [
       "'https://open.spotify.com/playlist/5bRdXusLShAR8e7JTpeLQN'"
      ]
     },
     "execution_count": 3,
     "metadata": {},
     "output_type": "execute_result"
    }
   ],
   "source": [
    "sp.create_playlist(ranked_recs)"
   ]
  },
  {
   "attachments": {},
   "cell_type": "markdown",
   "metadata": {},
   "source": [
    "If you open this playlist, you'll see that there are a lot of similar rap songs with similar artists from the original input [RapCaviar](https://open.spotify.com/playlist/37i9dQZF1DX0XUsuxWHRQd?si=b21c55631c15457b) playlist, but we also see recommendations from other genres and artists that would normally be recommended. \n",
    "\n",
    "The final notebook in this series is `main_guide.ipynb`. Please refer to that notebook to understand what I've learned, how this system could improve, future work, and more."
   ]
  },
  {
   "attachments": {},
   "cell_type": "markdown",
   "metadata": {},
   "source": [
    "#### References\n",
    "\n",
    "1. [TensorFlow Retrieval Documentation](https://www.tensorflow.org/recommenders/examples/basic_retrieval)\n",
    "2. [TensorFlow Ranking Documentation](https://www.tensorflow.org/recommenders/examples/basic_ranking)\n",
    "3. [TensorFlow Feature Preprocessing Documentation](https://www.tensorflow.org/recommenders/examples/featurization)"
   ]
  }
 ],
 "metadata": {
  "kernelspec": {
   "display_name": "env",
   "language": "python",
   "name": "python3"
  },
  "language_info": {
   "codemirror_mode": {
    "name": "ipython",
    "version": 3
   },
   "file_extension": ".py",
   "mimetype": "text/x-python",
   "name": "python",
   "nbconvert_exporter": "python",
   "pygments_lexer": "ipython3",
   "version": "3.8.12 (default, Oct 12 2021, 06:23:56) \n[Clang 10.0.0 ]"
  },
  "orig_nbformat": 4,
  "vscode": {
   "interpreter": {
    "hash": "b40804e3d628305b097cc9342ab14ec54461cf4bc8198b2e0511db866ce2e522"
   }
  }
 },
 "nbformat": 4,
 "nbformat_minor": 2
}
