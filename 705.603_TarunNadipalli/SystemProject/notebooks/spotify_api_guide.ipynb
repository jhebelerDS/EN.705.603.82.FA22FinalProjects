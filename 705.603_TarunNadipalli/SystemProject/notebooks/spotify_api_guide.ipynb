{
 "cells": [
  {
   "cell_type": "markdown",
   "metadata": {},
   "source": [
    "## Tarun Nadipalli - 705.603 Creating AI-Enabled Systems Final Project\n",
    "\n",
    "For my final project, I decided to build my own content-based song recommendation application with the Spotify API. Users are able to input a link to a Spotify playlist that contains songs they like and my application will send back a link to playlist that contains my recommended songs. As such, this guide talks specifically about how the Spotify API is used for this project.\n",
    "\n",
    "### Spotify Module (`spotify.py`) Guide\n",
    "\n",
    "This Jupyter notebook outlines the functionality built in the `spotify.py` file that allows to retrieve the user playlist, songs in the playlist, song data, and creation of playlists all through the Spotify API and spotipy module.\n",
    "\n",
    "To begin, we will instantiate a Spotify class object that will give us access to run queries on the Spotify API."
   ]
  },
  {
   "cell_type": "code",
   "execution_count": 2,
   "metadata": {
    "vscode": {
     "languageId": "python"
    }
   },
   "outputs": [],
   "source": [
    "from spotify import Spotify\n",
    "\n",
    "sp = Spotify(client_id='baf04d54648346de81af8a9904349531', \n",
    "            client_secret='074087a86045465dbd582802befa6f94',\n",
    "            scope='playlist-modify-public')"
   ]
  },
  {
   "cell_type": "markdown",
   "metadata": {},
   "source": [
    "When we instantiate our Spotify class object, we pass in three parameters: client_id, client_secret, scope. To obtain these parameters, you must first create a Development App through the Spotify Developer portal [here](https://developer.spotify.com/dashboard/login).\n",
    "\n",
    "The client id is the unique identifier of the Development App you create. \n",
    "The client secret is the key used to authorize the Web API or SDK calls.\n",
    "The scope, on the other hand, is what determines accesses to protected resources. In our case, the only scope required is 'playlist-modify-public' which allows us to create and modify our own public playlists.\n",
    "\n",
    "For more information, look [here](https://developer.spotify.com/documentation/general/guides/authorization/app-settings/)."
   ]
  },
  {
   "cell_type": "markdown",
   "metadata": {},
   "source": [
    "### Methods\n",
    "\n",
    "##### get_input()\n",
    "The first method we will take a look at is the `get_input()` method, which asks the user to paste a link to a Spotify playlist that we will use to understand user's song preferences. In addition, it performs some regex validation to ensure that the link pasted is of a valid format for the application. Each playlist link contains a playlist id, which is what we will use to query the song data from that playlist. Here's an example of how it works:"
   ]
  },
  {
   "cell_type": "code",
   "execution_count": 6,
   "metadata": {
    "vscode": {
     "languageId": "python"
    }
   },
   "outputs": [
    {
     "name": "stderr",
     "output_type": "stream",
     "text": [
      "INFO:root:Great! The playlist you've submitted is: https://open.spotify.com/playlist/37i9dQZF1DX0XUsuxWHRQd?si=6a83122787684374\n"
     ]
    },
    {
     "name": "stdout",
     "output_type": "stream",
     "text": [
      "The playlist ID is:  37i9dQZF1DX0XUsuxWHRQd\n"
     ]
    }
   ],
   "source": [
    "playlist_id = sp.get_input()\n",
    "print(\"The playlist ID is: \", playlist_id)"
   ]
  },
  {
   "cell_type": "markdown",
   "metadata": {},
   "source": [
    "If I input an incorrectly formatted link, here's what happens:"
   ]
  },
  {
   "cell_type": "code",
   "execution_count": 4,
   "metadata": {
    "vscode": {
     "languageId": "python"
    }
   },
   "outputs": [
    {
     "name": "stderr",
     "output_type": "stream",
     "text": [
      "INFO:root:That's not quite right. Check the link and enter again.\n",
      "INFO:root:Great! The playlist you've submitted is: https://open.spotify.com/playlist/37i9dQZF1DX0XUsuxWHRQd?si=6a83122787684374\n"
     ]
    },
    {
     "data": {
      "text/plain": [
       "'37i9dQZF1DX0XUsuxWHRQd'"
      ]
     },
     "execution_count": 4,
     "metadata": {},
     "output_type": "execute_result"
    }
   ],
   "source": [
    "# The first link I put was: https://spotify.com/track/37i9dQZF1DX0XUsuxWHRQd?si=6a83122787684374\n",
    "sp.get_input()"
   ]
  },
  {
   "cell_type": "markdown",
   "metadata": {},
   "source": [
    "##### read_playlist_tracks()\n",
    "The second method is `read_playlist_tracks(playlist_id)` which takes in the playlist ID from the user input and calls the Spotify API to obtain all of the tracks/songs ID's in the playlist. "
   ]
  },
  {
   "cell_type": "code",
   "execution_count": 8,
   "metadata": {
    "vscode": {
     "languageId": "python"
    }
   },
   "outputs": [
    {
     "name": "stderr",
     "output_type": "stream",
     "text": [
      "INFO:root:Retrieved Playlist track ID's!\n"
     ]
    },
    {
     "name": "stdout",
     "output_type": "stream",
     "text": [
      "['70UV1HmppYUxBI6yCev4d5', '1bDbXMyjaUIooNwFE9wn0N', '4wRJHXHDJnKSPr9IVn0BFR', '5XJWEh8huqG0l9RgRyArtv', '3QHGfxhjexLaMKGHXagfRs', '6R6ZS5HYH4RdXkjEwEJO5R', '7B09THlbQE2RndpgXeXQYE', '2A0G0bPmlkUXUbvWqrAXzg', '4qf2G3v1ychaRZ0glmrkES', '4FyesJzVpA39hbYvcseO2d', '5gAwpwuchaCGnJLlBMGBzp', '2KLwPaRDOB87XOYAT2fgxh', '3Wqs6XFKsKcTjaWhmB8VCP', '6ja11GoXgF75QkEVqqAadn', '6ug9fUi5oLLgQgOF1G8WkM', '6mM8gri8d2abYYomjOV4ut', '65nmqAEqW7CJIkXOIkxyg8', '4EvFzNPsp8iyiEO9LDHopv', '4lxTmHPgoRWwM9QisWobJL', '6Y95jrYOOWDkh7uO6PSDBT', '13VvjrXWYzG9lWViL8Y9vM', '4OkFBMU18NidtaefaTjUq1', '46GyY53xkfMRYTqZAQ33ne', '7asQMsxC6dNgY0inCzJC5O', '7CpXFEjLntpr4GdOhTtFEv', '6PvHZ5vVjUhngh0t3pIsPc', '46s57QULU02Voy0Kup6UEb', '2tFwYCvY0x9IfeW63AdMpM', '5JS1gz9zP4GTy0LZYvSeUK', '6H6ZtVp6DymejLOJLdRzOI', '5B40Td13cDQ4adeAiLf8Z4', '6rI8uFFmGyvS2N6sqDCdu3', '3TJTvFCoVZaWWTRuaIPkMl', '0wTTf3msjDJ8NcZGTmQJQV', '6PQK1Y3Dl6dym9pj0y9Chy', '2RJAKIw6nIkgZVsAIKhmqz', '3wspfG772mi1c25JpnNOVP', '2NVXBBbO4xGO851zrMfCFi', '6Md6lyVVoKWcOaSg8u1tDn', '4ZevD501qZiFK7FY8DFn0V', '6XO8RlYuJCiI0v3IA48FeJ', '5BvfdAtqZXGbR3Ub1Bejb6', '7KXVIAuw3m2hxZanrpSXS3', '48qgXl0CQUVYJVn6xv0rsP', '2g3qKijfeHfDyM7Fmaoi5M', '2BSl2gSFHdzJAMus74qzNj', '2yjlYDiNiQkdxVqTlaSrlX', '74loibzxXRL875X20kenvk', '5unjCay0kUjuej5ebn4nS4', '4gKWtJGlhxKKSyV65llt2G']\n"
     ]
    }
   ],
   "source": [
    "song_ids = sp.read_playlist_tracks(playlist_id)\n",
    "print(song_ids)"
   ]
  },
  {
   "cell_type": "markdown",
   "metadata": {},
   "source": [
    "##### get_audio_features()\n",
    "With these song ID's, we can query the Spotify API and obtain the variety of features that describe each song using the `get_audio_features(song_ids)` method. These features include danceability, valence, tempo, etc., but I will talk more in depth about these features in the data analysis guide instead (data_analysis.ipynb)! This method returns a list of json objects which contain the features for each song. Here, we print out the features for the song Superhero by Metro Boomin & Future off the RapCaviar playlist that we inputted above."
   ]
  },
  {
   "cell_type": "code",
   "execution_count": 9,
   "metadata": {
    "vscode": {
     "languageId": "python"
    }
   },
   "outputs": [
    {
     "name": "stderr",
     "output_type": "stream",
     "text": [
      "INFO:root:Retrieved track audio features!\n"
     ]
    },
    {
     "name": "stdout",
     "output_type": "stream",
     "text": [
      "{'danceability': 0.715, 'energy': 0.587, 'key': 5, 'loudness': -5.387, 'mode': 0, 'speechiness': 0.21, 'acousticness': 0.136, 'instrumentalness': 1.08e-05, 'liveness': 0.201, 'valence': 0.453, 'tempo': 116.68, 'type': 'audio_features', 'id': '70UV1HmppYUxBI6yCev4d5', 'uri': 'spotify:track:70UV1HmppYUxBI6yCev4d5', 'track_href': 'https://api.spotify.com/v1/tracks/70UV1HmppYUxBI6yCev4d5', 'analysis_url': 'https://api.spotify.com/v1/audio-analysis/70UV1HmppYUxBI6yCev4d5', 'duration_ms': 182667, 'time_signature': 4}\n"
     ]
    }
   ],
   "source": [
    "song_features_list = sp.get_audio_features(song_ids)\n",
    "print(song_features_list[0])"
   ]
  },
  {
   "cell_type": "markdown",
   "metadata": {},
   "source": [
    "##### get_spotify_data_from_user()\n",
    "This method, `get_spotify_data_from_user()`, combines the functionality of all of the previous methods and returns a Pandas DataFrame of all of the song features for the user inputted playlist. Ideally, this is the only function that will need to be ran in the recommendation algorithm to obtain the user's song preference data. Here's an example of how it works and the resulting data and features we obtain using the Spotify API:"
   ]
  },
  {
   "cell_type": "code",
   "execution_count": 11,
   "metadata": {
    "vscode": {
     "languageId": "python"
    }
   },
   "outputs": [
    {
     "name": "stderr",
     "output_type": "stream",
     "text": [
      "INFO:root:Great! The playlist you've submitted is: https://open.spotify.com/playlist/37i9dQZF1DX0XUsuxWHRQd?si=6a83122787684374\n",
      "INFO:root:Retrieved Playlist track ID's!\n",
      "INFO:root:Retrieved track audio features!\n"
     ]
    },
    {
     "data": {
      "text/html": [
       "<div>\n",
       "<style scoped>\n",
       "    .dataframe tbody tr th:only-of-type {\n",
       "        vertical-align: middle;\n",
       "    }\n",
       "\n",
       "    .dataframe tbody tr th {\n",
       "        vertical-align: top;\n",
       "    }\n",
       "\n",
       "    .dataframe thead th {\n",
       "        text-align: right;\n",
       "    }\n",
       "</style>\n",
       "<table border=\"1\" class=\"dataframe\">\n",
       "  <thead>\n",
       "    <tr style=\"text-align: right;\">\n",
       "      <th></th>\n",
       "      <th>danceability</th>\n",
       "      <th>energy</th>\n",
       "      <th>key</th>\n",
       "      <th>loudness</th>\n",
       "      <th>mode</th>\n",
       "      <th>speechiness</th>\n",
       "      <th>acousticness</th>\n",
       "      <th>instrumentalness</th>\n",
       "      <th>liveness</th>\n",
       "      <th>valence</th>\n",
       "      <th>tempo</th>\n",
       "      <th>track_uri</th>\n",
       "      <th>duration_ms</th>\n",
       "      <th>time_signature</th>\n",
       "    </tr>\n",
       "  </thead>\n",
       "  <tbody>\n",
       "    <tr>\n",
       "      <th>0</th>\n",
       "      <td>0.715</td>\n",
       "      <td>0.587</td>\n",
       "      <td>5</td>\n",
       "      <td>-5.387</td>\n",
       "      <td>0</td>\n",
       "      <td>0.2100</td>\n",
       "      <td>0.136000</td>\n",
       "      <td>0.000011</td>\n",
       "      <td>0.201</td>\n",
       "      <td>0.453</td>\n",
       "      <td>116.680</td>\n",
       "      <td>70UV1HmppYUxBI6yCev4d5</td>\n",
       "      <td>182667</td>\n",
       "      <td>4</td>\n",
       "    </tr>\n",
       "    <tr>\n",
       "      <th>1</th>\n",
       "      <td>0.561</td>\n",
       "      <td>0.520</td>\n",
       "      <td>11</td>\n",
       "      <td>-9.342</td>\n",
       "      <td>0</td>\n",
       "      <td>0.2440</td>\n",
       "      <td>0.050300</td>\n",
       "      <td>0.000002</td>\n",
       "      <td>0.355</td>\n",
       "      <td>0.424</td>\n",
       "      <td>153.150</td>\n",
       "      <td>1bDbXMyjaUIooNwFE9wn0N</td>\n",
       "      <td>239360</td>\n",
       "      <td>3</td>\n",
       "    </tr>\n",
       "    <tr>\n",
       "      <th>2</th>\n",
       "      <td>0.899</td>\n",
       "      <td>0.582</td>\n",
       "      <td>11</td>\n",
       "      <td>-7.275</td>\n",
       "      <td>0</td>\n",
       "      <td>0.2640</td>\n",
       "      <td>0.039500</td>\n",
       "      <td>0.000000</td>\n",
       "      <td>0.100</td>\n",
       "      <td>0.505</td>\n",
       "      <td>149.973</td>\n",
       "      <td>4wRJHXHDJnKSPr9IVn0BFR</td>\n",
       "      <td>283196</td>\n",
       "      <td>4</td>\n",
       "    </tr>\n",
       "    <tr>\n",
       "      <th>3</th>\n",
       "      <td>0.493</td>\n",
       "      <td>0.657</td>\n",
       "      <td>7</td>\n",
       "      <td>-5.415</td>\n",
       "      <td>0</td>\n",
       "      <td>0.2890</td>\n",
       "      <td>0.189000</td>\n",
       "      <td>0.000050</td>\n",
       "      <td>0.181</td>\n",
       "      <td>0.238</td>\n",
       "      <td>87.634</td>\n",
       "      <td>5XJWEh8huqG0l9RgRyArtv</td>\n",
       "      <td>207307</td>\n",
       "      <td>4</td>\n",
       "    </tr>\n",
       "    <tr>\n",
       "      <th>4</th>\n",
       "      <td>0.696</td>\n",
       "      <td>0.708</td>\n",
       "      <td>9</td>\n",
       "      <td>-4.737</td>\n",
       "      <td>1</td>\n",
       "      <td>0.0438</td>\n",
       "      <td>0.000113</td>\n",
       "      <td>0.000000</td>\n",
       "      <td>0.444</td>\n",
       "      <td>0.287</td>\n",
       "      <td>142.026</td>\n",
       "      <td>3QHGfxhjexLaMKGHXagfRs</td>\n",
       "      <td>168161</td>\n",
       "      <td>4</td>\n",
       "    </tr>\n",
       "  </tbody>\n",
       "</table>\n",
       "</div>"
      ],
      "text/plain": [
       "   danceability  energy  key  loudness  mode  speechiness  acousticness  \\\n",
       "0         0.715   0.587    5    -5.387     0       0.2100      0.136000   \n",
       "1         0.561   0.520   11    -9.342     0       0.2440      0.050300   \n",
       "2         0.899   0.582   11    -7.275     0       0.2640      0.039500   \n",
       "3         0.493   0.657    7    -5.415     0       0.2890      0.189000   \n",
       "4         0.696   0.708    9    -4.737     1       0.0438      0.000113   \n",
       "\n",
       "   instrumentalness  liveness  valence    tempo               track_uri  \\\n",
       "0          0.000011     0.201    0.453  116.680  70UV1HmppYUxBI6yCev4d5   \n",
       "1          0.000002     0.355    0.424  153.150  1bDbXMyjaUIooNwFE9wn0N   \n",
       "2          0.000000     0.100    0.505  149.973  4wRJHXHDJnKSPr9IVn0BFR   \n",
       "3          0.000050     0.181    0.238   87.634  5XJWEh8huqG0l9RgRyArtv   \n",
       "4          0.000000     0.444    0.287  142.026  3QHGfxhjexLaMKGHXagfRs   \n",
       "\n",
       "   duration_ms  time_signature  \n",
       "0       182667               4  \n",
       "1       239360               3  \n",
       "2       283196               4  \n",
       "3       207307               4  \n",
       "4       168161               4  "
      ]
     },
     "execution_count": 11,
     "metadata": {},
     "output_type": "execute_result"
    }
   ],
   "source": [
    "# We again use the same playlist link as above (RapCaviar playlist on Spotify)\n",
    "song_data_df = sp.get_spotify_data_from_user()\n",
    "song_data_df.head()"
   ]
  },
  {
   "cell_type": "markdown",
   "metadata": {},
   "source": [
    "##### create_playlist()\n",
    "The last method is `create_playlist(song_ids)` which is used after the recommendation algorithm finds the songs that it thinks the user will enjoy. Much like before, we pass in a list of song ID's which will allow us to create a brand new playlist and send the link back to the user. It is important to note here that creating playlists with the Spotify API is only possible if an actual Spotify User Account and ID is connected to the Development App made in the beginning of this guide. For purposes of the project, I have hard-coded my personal User-ID into this function to allow users to obtain their recommendation playlists. \n",
    "\n",
    "In addition, as this is just as an example of the function, we will pass in the same song ID's obtained from the RapCaviar playlist and essentially create a copy of it with this function. Feel free to click the link and see the public playlist we've created!"
   ]
  },
  {
   "cell_type": "code",
   "execution_count": 12,
   "metadata": {
    "vscode": {
     "languageId": "python"
    }
   },
   "outputs": [
    {
     "name": "stdout",
     "output_type": "stream",
     "text": [
      "https://open.spotify.com/playlist/1sdz7DYMakt2pCBRev5diK\n"
     ]
    }
   ],
   "source": [
    "created_playlist_link = sp.create_playlist(song_ids)\n",
    "print(created_playlist_link)"
   ]
  },
  {
   "cell_type": "markdown",
   "metadata": {},
   "source": [
    "That concludes all of the functionality built for utilizing the Spotify API. It has been adapted for this particular use case, but most of the base functionality comes from the amazing spotipy library. As such, I will paste all the useful reference material here for additional information.\n",
    "\n",
    "### References\n",
    "\n",
    "1. [Create Your Own Spotify App](https://developer.spotify.com/dashboard/login)\n",
    "2. [Spotify Authorization / App Settings Guide](https://developer.spotify.com/documentation/general/guides/authorization/app-settings/)\n",
    "3. [Spotify Full Scope List](https://developer.spotify.com/documentation/general/guides/authorization/scopes/)\n",
    "4. [Spotify Web API Guides / Endpoints](https://developer.spotify.com/documentation/web-api/reference/#/)\n",
    "5. [Spotify Web API Console](https://developer.spotify.com/console/)\n",
    "6. [Spotipy Module Documentation](https://spotipy.readthedocs.io/en/2.21.0/?highlight=audio%20features#)\n",
    "7. [Spotipy GitHub Example Scripts](https://github.com/spotipy-dev/spotipy/tree/master/examples)\n"
   ]
  }
 ],
 "metadata": {
  "kernelspec": {
   "display_name": "Python 3 (ipykernel)",
   "language": "python",
   "name": "python3"
  },
  "orig_nbformat": 4
 },
 "nbformat": 4,
 "nbformat_minor": 2
}
