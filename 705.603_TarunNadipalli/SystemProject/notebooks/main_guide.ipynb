{
 "cells": [
  {
   "cell_type": "markdown",
   "metadata": {},
   "source": [
    "#### Tarun Nadipalli - 705.603 Creating AI-Enabled Systems Final Project\n",
    "## Spotify Recommender System\n",
    "\n",
    "---\n",
    "#### Introduction\n",
    "For my final project, I built my own content-based song recommendation system using TensorFlow and the Spotify API. With my application, users can paste a link to a Spotify playlist and receive a link to a newly created Spotify playlist with songs they might like! \n",
    "\n",
    "With the Spotify API, we can query a variety of different features for each song (e.g. tempo, danceability, key) to understand the characteristics of a song. Using this information, we employ TensorFlow models to build a profile of song preferences, retrieve similar songs and return them to the user. That being said, my application differs from Spotify's recommendation system in one important way: \n",
    "\n",
    "**I find recommendations without using data on the genre or artist of a song!** \n",
    "\n",
    "For more information on the full codebase, you can read through the following notebooks / python scripts in this repository:\n",
    "\n",
    "1. Spotify API Utilization (`spotify.py`, `spotify_api_guide.ipynb`)\n",
    "2. Data Collection and Analysis (`data.py`, `data_collection_guide.ipynb`, `data_analysis_guide.ipynb`)\n",
    "3. TensorFlow Recommenders Implementation (`recommend.py`, `recommendation_guide.ipynb`)\n",
    "\n",
    "\n",
    "In this notebook, I will explain my motivation for building this system, design decisions, a working example, my results and findings, insights / what I've learned, the limitations and challenges I faced, and how this work can be improved in the future. There is a lot to discuss, let's begin!"
   ]
  },
  {
   "cell_type": "markdown",
   "metadata": {},
   "source": [
    "#### Motivation\n",
    "\n",
    "In my research paper for this class, I examined recommender systems used by some of the largest tech companies on the planet. All of them optimize their recommendation algorithms to keep users on the platform for as long as possible so they can generate more revenue. To do so, however, these systems constantly push content that is within the user's preferences but increasingly sensationalized or controversial over time. In turn, this causes feedback loops and echo chambers that don't allow users to see other perspectives. \n",
    "\n",
    "In order to understand how these systems work practically and how I could help alleviate these echo chambers, I decided to build out a Spotify song recommender system without the use of genre or artist data. I wanted to use the characteristics of songs to still find songs the user would like, but not necessarily within the same genre or by the same artists. Ultimately, my motivation was to create a system that keeps users engaged while expanding their horizons and breaking them out of these echo chambers."
   ]
  },
  {
   "cell_type": "markdown",
   "metadata": {},
   "source": [
    "Before we discuss the results and findings, let's examine an example of the system:\n",
    "\n",
    "#### Example \n",
    "\n",
    "In this example, I will input the [RapCaviar](https://open.spotify.com/playlist/37i9dQZF1DX0XUsuxWHRQd?si=592757d5b24c4ab7) playlist from Spotify as the set of songs that I like. Then, we will receive a link to a playlist of songs that my application thinks I will like. We will examine the results after."
   ]
  },
  {
   "cell_type": "code",
   "execution_count": 1,
   "metadata": {},
   "outputs": [
    {
     "name": "stdout",
     "output_type": "stream",
     "text": [
      "\n",
      "\n",
      "                                                  _   _   _   _   _   _   _     _   _  \n",
      "                                                 / \\ / \\ / \\ / \\ / \\ / \\ / \\   / \\ / \\ \n",
      "                                                ( W | E | L | C | O | M | E ) ( T | O )\n",
      "                                                 \\_/ \\_/ \\_/ \\_/ \\_/ \\_/ \\_/   \\_/ \\_/ \n",
      "\n",
      " _____                      _       ____              _   _  __         ____                                                   _           \n",
      "|_   _|_ _ _ __ _   _ _ __ ( )___  / ___| _ __   ___ | |_(_)/ _|_   _  |  _ \\ ___  ___ ___  _ __ ___  _ __ ___   ___ _ __   __| | ___ _ __ \n",
      "  | |/ _` | '__| | | | '_ \\|// __| \\___ \\| '_ \\ / _ \\| __| | |_| | | | | |_) / _ \\/ __/ _ \\| '_ ` _ \\| '_ ` _ \\ / _ \\ '_ \\ / _` |/ _ \\ '__|\n",
      "  | | (_| | |  | |_| | | | | \\__ \\  ___) | |_) | (_) | |_| |  _| |_| | |  _ <  __/ (_| (_) | | | | | | | | | | |  __/ | | | (_| |  __/ |   \n",
      "  |_|\\__,_|_|   \\__,_|_| |_| |___/ |____/| .__/ \\___/ \\__|_|_|  \\__, | |_| \\_\\___|\\___\\___/|_| |_| |_|_| |_| |_|\\___|_| |_|\\__,_|\\___|_|   \n",
      "                                         |_|                    |___/                                                                      \n",
      "\n",
      "            Welcome to Tarun's Spotify Recommender! This is the final project for JHU 705.603 Creating AI-Enabled Systems class.\n",
      "                When prompted, paste in a link to your favorite Spotify playlist or a playlist of your songs you like! \n",
      "                              I'll send you back a link to a playlist of songs I think you'll like!\n",
      "\n",
      "\n",
      "\u001b[93mGot it! The playlist you've submitted is: https://open.spotify.com/playlist/37i9dQZF1DX0XUsuxWHRQd?si=c1715c87857043ed\n",
      "\u001b[93mRetrieved all data! Generating recommendations...\n",
      "\u001b[93mAlmost there...\n",
      "\u001b[92mDone! Here are your recommendations: https://open.spotify.com/playlist/6bN33WTG8TOxaxntv09PK8\n"
     ]
    }
   ],
   "source": [
    "from recommend import *\n",
    "# suppressing unnecessary logs\n",
    "tf.get_logger().setLevel('ERROR')\n",
    "\n",
    "main()"
   ]
  },
  {
   "cell_type": "markdown",
   "metadata": {},
   "source": [
    "#### Results / Findings\n",
    "\n",
    "##### Results\n",
    "Great, we retrieved our 50 song recommendations! Using an online tool called Chosic, we can get some analysis information on the makeup of each playlist. They give both statistics on the song features and the genres of all of the songs on the playlist.\n",
    "\n",
    "- Input RapCaviar playlist Analysis [here](https://www.chosic.com/spotify-playlist-analyzer/?plid=6bN33WTG8TOxaxntv09PK8)\n",
    "- My Recommendations playlist Analysis [here](https://www.chosic.com/spotify-playlist-analyzer/?plid=6bN33WTG8TOxaxntv09PK8)\n",
    "\n",
    "Before we see the analysis data, it is important to note that I chose the RapCaviar playlist because I enjoy the music thoroughly, am an avid listener, and can understand the types of music that my application recommends because of it. Due to this, it acts as a great control input for my application as all the music is extremely similar. Thus, we can see any variation easily in the recommendations playlist.\n",
    "\n",
    "According to their analysis (which utilizes the same Spotify API and song data used to generate my recommendations), we can see that the scores for most of the features like danceability, happiness, energy, or acousticness, are very similar for both playlists! This is expected as our TensorFlow algorithms of FactorizedTopK and ranking functions let us use these features to find the most similar songs. Most importantly, however, we can see there is a larger variety of genres included in the recommendations playlist!\n",
    "\n",
    "With the RapCaviar playlist, about 50% of the playlist was made up of Rap, Hip-Hop, Trap, Melodic Rap, etc. On the other hand, only around ~22% of the recommendations playlist contains Rap, Hip-Hop, and Trap. The rest of the genres are far more niche such as Southern Hip-Hop, Pop-Rap, Underground Hip-Hop and Alternative Hip-Hop. Furthermore, the artists are MUCH more varied and less popular than the ones included in the RapCaviar playlist. \n",
    "\n",
    "##### Findings / My Thoughts\n",
    "Ultimately, this indicates to me that by exlcuding genre data, I have presented enough noise in the dataset to still keep the users engaged, yet break them slightly out of their regular listening habits and potentially present them with another set of artists or genres to dive into later. \n",
    "\n",
    "With that being said, I listened to the recommendations playlist and found myself skipping songs more than usual. Despite this, I genuinely enjoyed a few of the songs such as The Reals by DDG who I have never listened to before and may start to look into his music later. I think the important distinction here is that my application is currently not built to have an extremely high success rate in keeping the user listening all the way through, but the fact that I found a new artist within a different sub-genre is quite interesting. As someone who almost exclusively listens to Rap/Hip-Hop and utilizes Spotify a lot, I have never come across DDG. I am excited to see that I was able to find someone completely new! \n",
    "\n",
    "Keeping in mind that my model was trained only 50 songs and parsed through 300k songs to find recommendations for me, I feel that the application is extremely promising since it found me atleast 1 new artist/sub-genre for me to enjoy. Ultimately these recommendation algorithms are meant to keep users on the platform longer and if I can use my application to give users more things to get hooked on, then it has credibility and potential for success at scale. There are definitely improvements to be made, but we will discuss that later on.\n"
   ]
  },
  {
   "cell_type": "markdown",
   "metadata": {},
   "source": [
    "#### Insights\n",
    "\n",
    "In the last section I described my findings or the patterns / results that appeared from my recommendations. In this section, we will discuss my learnings, how I feel this improved recommendation systems, and how it relates back to my motivation.\n",
    "\n",
    "1. **What did I learn about recommendation systems through this work?**\n",
    "      \n",
    "   The first learning is that the amount of data / type of data provided to the system can have profound impacts. Having only loosely positive implicit data to train from, I was only able to teach my model what I like to see. If I had access to negative implicit or explicit data such as the songs I've skipped, I would not only teach my model what I don't like, but also greatly improve the speed of the retrieval (weed-out) step of the system (to weed out 300k songs takes around ~2.5 min on my machine). Increasing model accuracy and speed with only one added dimension could be a huge improvement.\n",
    "\n",
    "   The second is that these systems like these are generalizable and can be modified based on the use case somewhat easily. Per my motivation, I was trying to make a more generalizable recommendation system. I was worried that by excluding genre I would either have recommendations that did not correlate at all with the user's preferences or ones that were extremely similar to the training data since it was so small. Obviously this would defeat the point of recommendation systems as it would not keep users on the platform. Thankfully, this was not the case, teaching me that these recommendations CAN be modified to suit a different use case and do not ALWAYS have to be optimized for click through rate or generating revenue.\n",
    "\n",
    "\n",
    "2. **How could my work improve Spotify or other recommendation system implementations?**\n",
    "\n",
    "   Again, my motivation was to give users a way to break free from these echo chambers or regular listening habits. With this motivation and the application I have created, I provided a proof of concept for the following two potential features that could be implemented in other recommendation systems or applications.\n",
    "\n",
    "   First off, this tool (if expanded upon and better tuned) could prove useful as a method of quickly understanding the preferences of a user when they first start using an application. Recommenders often face a 'cold start' issue where there is no data to be trained on when a user first joins an application. This work definitely proves that great recommendations can be made off of a limited dataset, as we only had positive implicit ratings, but on a real application you would have all sorts of other data to go off of. In addition, the generalizability of the algorithm makes this ideal for presenting all of these other attention grabbers for the user to interact with, without restricting them to one type of content. This is especially important because in my personal experience, I find that as a new user, if I interact with one type of content, I am only recommended that until I have another set of interactions with other content naturally.\n",
    "\n",
    "   Secondly, an important part of understanding recommendation systems and the problems they introduce is giving people awareness of how they may be misguided or manipulated into being a part of an echo chamber. To combat this, imagine Spotify implements an equivalent to the \"I'm Feeling Lucky\" button from Google. This feature could take into account the users preferences, but give the user the option to expand their horizons themselves. This way, it would not intrude on Spotify's main objective of keeping users engaged 24/7 for profits, but just give users a valid option to change what they see if they want to. \n",
    "\n",
    "   My work in this project provides a starting point for implementation of these two features that are realistic and actionable.\n",
    "\n",
    "Now that I have laid out my learnings, let's move on to the limitations / challenges I've faced in getting to this point."
   ]
  },
  {
   "cell_type": "markdown",
   "metadata": {},
   "source": [
    "#### Limitations\n",
    "\n",
    "The first limitation was the amount of data I had access to. I mentioned it previously, but only having positive implicit data was a real challenge to work with. It mainly affected the retrieval step as there was generally only 50-100 songs in the training data from user input to weed out 299k out of the 300k songs. Having more layers for other data like skips, likes, or replays of songs from the users would greatly improve the accuracy of this portion of the model. In addition, the retrieval step is already quite slow and although adding layers would make it slightly slower, it would produce a much better result.\n",
    "\n",
    "Another limitation I faced mainly in data collection was the rate limits of the Spotify API. The API never mentions a hard limit on requests, but if there are too many requests in a 30 second rolling window, you cannot send any more. For this reason, I had to space out my requests to the API to every 30 seconds to be safe while I was collecting my hundreds of thousands of song features and song IDs.\n",
    "\n",
    "Additionally to the above, a HUGE limitation was my computer's processing power in terms of reading / writing to the dataset file with all of the hundreds of thousands of songs' data. I definitely experienced a couple crashes during my work. With more compute power, I could easily increase my candidate dataset size to millions and add more Dense layers to the TensorFlow model.\n",
    "\n",
    "Ideally, in other iterations of this project I will be able to address these issues and create more meaningful, yet generalizable recommendations."
   ]
  },
  {
   "cell_type": "markdown",
   "metadata": {},
   "source": [
    "#### Challenges\n",
    "\n",
    "One of the main challenges with this project was the risk of creating something that is not feasible for any of the largest recommendation systems to implement. All of the largest companies optimize for revenue with click through rate and user attention to generate more profit. If my work provided nothing to this workflow or puzzle, it would not be a valid solution or potential remedy. Luckily, I feel as though my analysis and personal findings / experience provided some valuable insights or potential features that could very well be implemented in the future.\n",
    "\n",
    "Another challenge is that before this project I had no previous experience using TensorFlow. Not to mention, the sub-module TensorFlow Recommenders is not very well documented or verbose about the inner workings of the models provided there. For that reason, this was not easy at all from a personal standpoint."
   ]
  },
  {
   "cell_type": "markdown",
   "metadata": {},
   "source": [
    "#### Future Work / Improvements\n",
    "\n",
    "1. Distributed Processing\n",
    "   \n",
    "   There are multiple areas in this project where distributed processing could have greatly increased my efficiency. The first is data collection, where I could have included more songs in my candidate dataset had I distributed the read / write load so my computer could handle more. Furthermore, I could have also used TensorFlow's distributed processing module to speed up embedding generation, retrieval step, and ranking the possible recommendations. \n",
    "\n",
    "2. Cloud Implementation\n",
    "   \n",
    "   Putting this application on a cloud service like AWS would provide a lot of benefits. First off, I could use large EC2 instances to compute the embedding operations, retrieval and ranking portions of the recommendations faster and on much larger datasets. In addition, I could fix my API Rate Limitation by using Elastic IP Addresses to have multiple inputs for retrieving data from Spotify. I could also use a much larger database that is more capable for read/write like DynamoDB to store the data. Lastly, if this work is to be the starting point for a larger application where users could login to Spotify through my app so I could read their preferences directly, AWS would provide me with a lot of security solutions that would protect my from malicious users and also protect the data I store.\n",
    "\n",
    "3. Optimizing Ranking Function\n",
    "   \n",
    "   In this application, I create temporary \"user ratings\" with a value of 1 so it can tell the model that these are songs the user likes. However, because this is essentially binary (0 - doesn't like, 1 - likes), my ranking function doesn't have much to predict ratings from. With some more implicit or explicit positive / negative data I could greatly improve the model's predictions for user ratings. \n",
    "\n",
    "4. Better Analysis\n",
    "   \n",
    "   One large improvement to be made is the use of more analysis and evaluation of my results. With more users using the application I could get some more data on model performance and be able to tune or increase model accuracy. Whether I include more activation layers, embeddings or loss computation would be a decision that could be heavily informed from more thorough analysis of the results."
   ]
  },
  {
   "cell_type": "markdown",
   "metadata": {},
   "source": [
    "#### References\n",
    "\n",
    "**Spotify API**\n",
    "1. [Create Your Own Spotify App](https://developer.spotify.com/dashboard/login)\n",
    "2. [Spotify Authorization / App Settings Guide](https://developer.spotify.com/documentation/general/guides/authorization/app-settings/)\n",
    "3. [Spotify Full Scope List](https://developer.spotify.com/documentation/general/guides/authorization/scopes/)\n",
    "4. [Spotify Web API Guides / Endpoints](https://developer.spotify.com/documentation/web-api/reference/#/)\n",
    "5. [Spotify Web API Console](https://developer.spotify.com/console/)\n",
    "6. [Spotipy Module Documentation](https://spotipy.readthedocs.io/en/2.21.0/?highlight=audio%20features#)\n",
    "7. [Spotipy GitHub Example Scripts](https://github.com/spotipy-dev/spotipy/tree/master/examples)\n",
    "8. [Spotify Feature Definitions](https://developer.spotify.com/documentation/web-api/reference/#/operations/get-several-audio-features)\n",
    "\n",
    "**Data Collection**\n",
    "1. [Spotify Million Playlist Dataset](https://www.aicrowd.com/challenges/spotify-million-playlist-dataset-challenge)\n",
    "2. [@nsanka Github Reference](https://github.com/nsanka/RecSys/blob/main/code/read_spotify_million_playlists.py)\n",
    "3. [SQLite3 Documentation](https://docs.python.org/3/library/sqlite3.html)\n",
    "4. [SQLite3 Website](https://www.sqlite.org)\n",
    "\n",
    "**TensorFlow**\n",
    "1. [TensorFlow Retrieval Documentation](https://www.tensorflow.org/recommenders/examples/basic_retrieval)\n",
    "2. [TensorFlow Ranking Documentation](https://www.tensorflow.org/recommenders/examples/basic_ranking)\n",
    "3. [TensorFlow Feature Preprocessing Documentation](https://www.tensorflow.org/recommenders/examples/featurization)\n",
    "\n"
   ]
  },
  {
   "cell_type": "markdown",
   "metadata": {},
   "source": [
    "Please read the README in this repo to find instructions on how to set up your environment and run this app yourself locally.\n",
    "\n",
    "Thanks for reading through! - Tarun"
   ]
  }
 ],
 "metadata": {
  "kernelspec": {
   "display_name": "Python 3 (ipykernel)",
   "language": "python",
   "name": "python3"
  },
  "language_info": {
   "codemirror_mode": {
    "name": "ipython",
    "version": 3
   },
   "file_extension": ".py",
   "mimetype": "text/x-python",
   "name": "python",
   "nbconvert_exporter": "python",
   "pygments_lexer": "ipython3",
   "version": "3.8.10"
  },
  "vscode": {
   "interpreter": {
    "hash": "b40804e3d628305b097cc9342ab14ec54461cf4bc8198b2e0511db866ce2e522"
   }
  }
 },
 "nbformat": 4,
 "nbformat_minor": 4
}
