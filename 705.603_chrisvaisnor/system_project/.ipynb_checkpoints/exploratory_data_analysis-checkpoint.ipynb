{
 "cells": [
  {
   "cell_type": "markdown",
   "metadata": {},
   "source": [
    "## Exploratory Data Analysis"
   ]
  },
  {
   "cell_type": "code",
   "execution_count": 1,
   "metadata": {},
   "outputs": [],
   "source": [
    "from data import load_file"
   ]
  },
  {
   "cell_type": "code",
   "execution_count": 2,
   "metadata": {},
   "outputs": [],
   "source": [
    "inputs, outputs = load_file(\"inputs/test_set.txt\") # loading test set, original data is huge file"
   ]
  },
  {
   "cell_type": "code",
   "execution_count": 3,
   "metadata": {},
   "outputs": [
    {
     "name": "stdout",
     "output_type": "stream",
     "text": [
      "Number of samples in test set: 200000\n"
     ]
    }
   ],
   "source": [
    "print('Number of samples in test set:', len(inputs))"
   ]
  },
  {
   "cell_type": "code",
   "execution_count": 4,
   "metadata": {},
   "outputs": [
    {
     "name": "stdout",
     "output_type": "stream",
     "text": [
      "            INPUT                            TARGET               \n",
      "------------------------------------------------------------------\n",
      "         -5*h*(5-2*h)          |          10*h**2-25*h         \n",
      "------------------------------------------------------------------\n",
      "          s*(8*s-21)           |          8*s**2-21*s          \n",
      "------------------------------------------------------------------\n",
      "       (21-t)*(-6*t-4)         |        6*t**2-122*t-84        \n",
      "------------------------------------------------------------------\n",
      "       (21-5*c)*(3*c-7)        |       -15*c**2+98*c-147       \n",
      "------------------------------------------------------------------\n",
      "          4*n*(n+22)           |          4*n**2+88*n          \n",
      "------------------------------------------------------------------\n",
      "        (k+2)*(5*k+29)         |         5*k**2+39*k+58        \n",
      "------------------------------------------------------------------\n",
      "       (k-15)*(2*k+29)         |          2*k**2-k-435         \n",
      "------------------------------------------------------------------\n",
      "        (i-20)*(i+24)          |          i**2+4*i-480         \n",
      "------------------------------------------------------------------\n",
      "          -4*c*(c+2)           |          -4*c**2-8*c          \n",
      "------------------------------------------------------------------\n",
      "        -6*j*(-7*j-11)         |          42*j**2+66*j         \n",
      "------------------------------------------------------------------\n"
     ]
    }
   ],
   "source": [
    "# print the first 10 inputs and targets\n",
    "# left is the input, right is the target\n",
    "\n",
    "print(f\"{'INPUT':^30}{'TARGET':^36}\")\n",
    "print(\"-\" * 66)\n",
    "for i in range(10):\n",
    "    print(f\"{inputs[i]:^30} | {outputs[i]:^30}\")\n",
    "    print(\"-\" * 66)"
   ]
  },
  {
   "cell_type": "markdown",
   "metadata": {},
   "source": [
    "Besides integers, operators, and paranthesis, there is a vocabulary consisting of the trigonometric text.\n",
    "\n",
    "(tan, cos, sin, etc)"
   ]
  },
  {
   "cell_type": "code",
   "execution_count": 5,
   "metadata": {},
   "outputs": [
    {
     "name": "stdout",
     "output_type": "stream",
     "text": [
      "Longest input: 29\n",
      "Longest target: 28\n"
     ]
    }
   ],
   "source": [
    "# longest input and target\n",
    "print(\"Longest input:\", max(len(i) for i in inputs))\n",
    "print(\"Longest target:\", max(len(i) for i in outputs))"
   ]
  },
  {
   "cell_type": "code",
   "execution_count": 6,
   "metadata": {},
   "outputs": [],
   "source": [
    "import collections, re"
   ]
  },
  {
   "cell_type": "code",
   "execution_count": 7,
   "metadata": {},
   "outputs": [],
   "source": [
    "def freq(pattern, s):\n",
    "    return collections.Counter(re.findall(pattern, s)).most_common()"
   ]
  },
  {
   "cell_type": "code",
   "execution_count": 8,
   "metadata": {},
   "outputs": [
    {
     "data": {
      "text/plain": [
       "[('*', 1259482),\n",
       " ('-', 586615),\n",
       " ('2', 548812),\n",
       " ('(', 343740),\n",
       " (')', 343740),\n",
       " ('1', 311256),\n",
       " ('+', 249907),\n",
       " ('4', 191116),\n",
       " ('3', 189635),\n",
       " ('6', 170624),\n",
       " ('5', 160975),\n",
       " ('8', 159509),\n",
       " ('7', 129956),\n",
       " ('0', 124439),\n",
       " ('n', 114056),\n",
       " ('s', 113387),\n",
       " ('i', 105536),\n",
       " ('9', 99978),\n",
       " ('c', 57806),\n",
       " ('a', 56863),\n",
       " ('t', 56709),\n",
       " ('o', 56515),\n",
       " ('j', 49350),\n",
       " ('z', 49306),\n",
       " ('y', 48835),\n",
       " ('x', 48778),\n",
       " ('h', 48540),\n",
       " ('k', 48422)]"
      ]
     },
     "execution_count": 8,
     "metadata": {},
     "output_type": "execute_result"
    }
   ],
   "source": [
    "# returning all chars\n",
    "freq(\".\", \"\".join(inputs + outputs))"
   ]
  },
  {
   "cell_type": "markdown",
   "metadata": {},
   "source": [
    "It looks like the only characters used are from the trig functions or characters used as variables."
   ]
  },
  {
   "cell_type": "code",
   "execution_count": 9,
   "metadata": {},
   "outputs": [
    {
     "data": {
      "text/plain": [
       "[('n', 98493),\n",
       " ('i', 97833),\n",
       " ('s', 97584),\n",
       " ('c', 49706),\n",
       " ('j', 49350),\n",
       " ('z', 49306),\n",
       " ('a', 49003),\n",
       " ('t', 48849),\n",
       " ('y', 48835),\n",
       " ('x', 48778),\n",
       " ('h', 48540),\n",
       " ('k', 48422),\n",
       " ('o', 48415),\n",
       " ('cos', 8100),\n",
       " ('tan', 7860),\n",
       " ('sin', 7703)]"
      ]
     },
     "execution_count": 9,
     "metadata": {},
     "output_type": "execute_result"
    }
   ],
   "source": [
    "# lowercase terms\n",
    "freq(\"[a-z]+\", \" \".join(inputs + outputs))"
   ]
  },
  {
   "cell_type": "markdown",
   "metadata": {},
   "source": [
    "sin, cos, and tan are the trig functions."
   ]
  },
  {
   "cell_type": "code",
   "execution_count": 10,
   "metadata": {},
   "outputs": [
    {
     "data": {
      "text/plain": [
       "[('*', 649932),\n",
       " ('+', 245303),\n",
       " ('**', 201702),\n",
       " (')', 200402),\n",
       " ('(', 152467),\n",
       " (')*(', 126574),\n",
       " ('*(', 63186),\n",
       " (')**', 6490),\n",
       " (')+', 4604),\n",
       " ('))*(', 1513),\n",
       " (')*', 1504),\n",
       " ('))*', 389),\n",
       " ('))', 181)]"
      ]
     },
     "execution_count": 10,
     "metadata": {},
     "output_type": "execute_result"
    }
   ],
   "source": [
    "# symbol terms\n",
    "freq(\"[\\*|-|\\(|\\)|\\+|=]+\", \" \".join(inputs + outputs))"
   ]
  },
  {
   "cell_type": "markdown",
   "metadata": {},
   "source": [
    "### We can use all of the above information to establish a 'vocabulary' for the model."
   ]
  },
  {
   "cell_type": "markdown",
   "metadata": {},
   "source": [
    "### This vocabulary consists of:\n",
    "\n",
    "Trigonometric Functions\n",
    "* sin, cos, tan\n",
    "\n",
    "Integers\n",
    "* 0-9\n",
    "\n",
    "Different combinations of paranthenses:\n",
    "* ) , )), (, (( , etc\n",
    "\n",
    "Operators:\n",
    "* +, -, *, **\n",
    "\n",
    "Variables:\n",
    "* s, i, n, c, z, y, h, k, x, o, a, j, t\n",
    "\n",
    "### We can use this vocabulary to create a tokenizer for the model."
   ]
  },
  {
   "cell_type": "code",
   "execution_count": 11,
   "metadata": {},
   "outputs": [],
   "source": [
    "# storing final vocabulary\n",
    "vocab_items = \"sin|cos|tan|\\d|\\w|\\(|\\)|\\+|-|\\*+\"\n",
    "vocab = set(re.findall(vocab_items, \" \".join(inputs + outputs))) # set of all unique terms"
   ]
  },
  {
   "cell_type": "code",
   "execution_count": 12,
   "metadata": {},
   "outputs": [
    {
     "name": "stdout",
     "output_type": "stream",
     "text": [
      "Vocabulary size: 32\n",
      "Vocabulary: ['(', ')', '*', '**', '+', '-', '0', '1', '2', '3', '4', '5', '6', '7', '8', '9', 'a', 'c', 'cos', 'h', 'i', 'j', 'k', 'n', 'o', 's', 'sin', 't', 'tan', 'x', 'y', 'z']\n"
     ]
    }
   ],
   "source": [
    "print(\"Vocabulary size:\", len(vocab))\n",
    "print(\"Vocabulary:\", sorted(vocab)) "
   ]
  },
  {
   "cell_type": "markdown",
   "metadata": {},
   "source": [
    "### Wrapping up the EDA"
   ]
  },
  {
   "cell_type": "code",
   "execution_count": 13,
   "metadata": {},
   "outputs": [],
   "source": [
    "# checking if inputs and outputs contain only terms from vocab\n",
    "for i in range(len(inputs)):\n",
    "    for term in re.findall(vocab_items, inputs[i]):\n",
    "        if term not in vocab:\n",
    "            print(\"Term not in vocab:\", term)\n",
    "            break\n",
    "    for term in re.findall(vocab_items, outputs[i]):\n",
    "        if term not in vocab:\n",
    "            print(\"Term not in vocab:\", term)\n",
    "            break"
   ]
  },
  {
   "cell_type": "markdown",
   "metadata": {},
   "source": [
    "The above cell ran without issue! We can conclude that the inputs and outputs are valid."
   ]
  },
  {
   "cell_type": "code",
   "execution_count": 14,
   "metadata": {},
   "outputs": [],
   "source": [
    "# saving the vocabulary\n",
    "with open(\"vocab.txt\", \"w\") as f:\n",
    "    for term in sorted(vocab):\n",
    "        f.write(term + \", \")"
   ]
  },
  {
   "cell_type": "code",
   "execution_count": null,
   "metadata": {},
   "outputs": [],
   "source": []
  }
 ],
 "metadata": {
  "kernelspec": {
   "display_name": "Python 3 (ipykernel)",
   "language": "python",
   "name": "python3"
  },
  "language_info": {
   "codemirror_mode": {
    "name": "ipython",
    "version": 3
   },
   "file_extension": ".py",
   "mimetype": "text/x-python",
   "name": "python",
   "nbconvert_exporter": "python",
   "pygments_lexer": "ipython3",
   "version": "3.8.13"
  },
  "vscode": {
   "interpreter": {
    "hash": "1440ca659962f92585b915ea9c35fda159f7dda4777faeac167d697a04f9a992"
   }
  }
 },
 "nbformat": 4,
 "nbformat_minor": 2
}
